{
 "cells": [
  {
   "cell_type": "markdown",
   "metadata": {},
   "source": [
    "# Web Mining and Applied NLP (44-620)\n",
    "\n",
    "## Requests, JSON, and NLP\n",
    "\n",
    "### Student Name: Angela Halsten\n",
    "\n",
    "Perform the tasks described in the Markdown cells below.  When you have completed the assignment make sure your code cells have all been run (and have output beneath them) and ensure you have committed and pushed ALL of your changes to your assignment repository.\n",
    "\n",
    "Make sure you have [installed spaCy and its pipeline](https://spacy.io/usage#quickstart) and [spaCyTextBlob](https://spacy.io/universe/project/spacy-textblob)\n",
    "\n",
    "Every question that requires you to write code will have a code cell underneath it; you may either write your entire solution in that cell or write it in a python file (`.py`), then import and run the appropriate code to answer the question.\n",
    "\n",
    "This assignment requires that you write additional files (either JSON or pickle files); make sure to submit those files in your repository as well."
   ]
  },
  {
   "cell_type": "markdown",
   "metadata": {},
   "source": [
    "                    Question 1"
   ]
  },
  {
   "cell_type": "markdown",
   "metadata": {},
   "source": [
    "1. The following code accesses the [lyrics.ovh](https://lyricsovh.docs.apiary.io/#reference/0/lyrics-of-a-song/search) public api, searches for the lyrics of a song, and stores it in a dictionary object.  Write the resulting json to a file (either a JSON file or a pickle file; you choose). You will read in the contents of this file for future questions so we do not need to frequently access the API."
   ]
  },
  {
   "cell_type": "code",
   "execution_count": 12,
   "metadata": {},
   "outputs": [],
   "source": [
    "import requests\n",
    "import json\n",
    "\n",
    "lyrics = {\"She Will Be Loved\":\"[Verse 1] Beauty queen of only eighteen She had some trouble with herself He was always there to help her She always belonged to someone else [Pre-Chorus] I drove for miles and miles And wound up at your door I've had you so many times But somehow, I want more [Chorus] I don't mind spending every day Out on your corner in the pouring rain Look for the girl with the broken smile Ask her if she wants to stay a while [Post-Chorus] And she will be loved And she will be loved [Verse 2] Tap on my window, knock on my door, I Want to make you feel beautiful I know I tend to get so insecure Doesn't matter anymore [Pre-Chorus] It's not always rainbows and butterflies It's compromise that moves us along, yeah My heart is full and my door's always open You come any time you want, yeah [Chorus] I don't mind spending every day Out on your corner in the pouring rain Look for the girl with the broken smile Ask her if she wants to stay a while [Post-Chorus] And she will be loved And she will be loved And she will be loved And she will be loved [Bridge] I know where you hide Alone in your car Know all of the things that make you who you are I know that goodbye means nothing at all Comes back and makes me catch her Every time she falls, yeah [Pre-Chorus] Tap on my window, knock on my door, I Want to make you feel beautiful [Chorus] I don't mind spending every day Out on your corner in the pouring rain, oh Look for the girl with the broken smile Ask her if she wants to stay a while [Post-Chorus] And she will be loved And she will be loved And she will be loved And she will be loved [Outro fading out] I don't mind spending every day Out on your corner in the pouring rain Please don't try so hard to say goodbye\"}\n",
    "json_object = json.dumps(lyrics)\n",
    "with open(\"lyrics.json\", \"w\") as outfile:\n",
    "    outfile.write(json_object)"
   ]
  },
  {
   "cell_type": "markdown",
   "metadata": {},
   "source": [
    "                    Question 2"
   ]
  },
  {
   "cell_type": "markdown",
   "metadata": {},
   "source": [
    "import spacy\n",
    "from spacytextblob.spacytextblob import SpacyTextBlob\n",
    "2. Read in the contents of your file.  Print the lyrics of the song (not the entire dictionary!) and use spaCyTextBlob to perform sentiment analysis on the lyrics.  Print the polarity score of the sentiment analysis.  Given that the range of the polarity score is `[-1.0,1.0]` which corresponds to how positive or negative the text in question is, do you think the lyrics have a more positive or negative connotaion?  Answer this question in a comment in your code cell."
   ]
  },
  {
   "cell_type": "code",
   "execution_count": 4,
   "metadata": {},
   "outputs": [],
   "source": [
    "import spacy\n",
    "from spacytextblob.spacytextblob import SpacyTextBlob\n",
    "import json\n",
    "                     "
   ]
  },
  {
   "cell_type": "code",
   "execution_count": 56,
   "metadata": {},
   "outputs": [
    {
     "name": "stdout",
     "output_type": "stream",
     "text": [
      "0.3119444444444444\n"
     ]
    }
   ],
   "source": [
    "nlp = spacy.load('en_core_web_sm')\n",
    "nlp.add_pipe('spacytextblob')\n",
    "f = open('lyrics.json')\n",
    "lyrics = json.load(f)\n",
    "text = lyrics['She Will Be Loved']\n",
    "doc = nlp(text)\n",
    "doc._.blob.polarity                            \n",
    "doc._.blob.subjectivity                        \n",
    "doc._.blob.sentiment_assessments.assessments   \n",
    "doc._.blob.ngrams() \n",
    "print(doc._.blob.polarity)"
   ]
  },
  {
   "cell_type": "markdown",
   "metadata": {},
   "source": [
    "With the polarity at 0.3119, I find that the song is moderately positive."
   ]
  },
  {
   "cell_type": "markdown",
   "metadata": {},
   "source": [
    "                    Question 3"
   ]
  },
  {
   "cell_type": "markdown",
   "metadata": {},
   "source": [
    "3. Write a function that takes an artist, song, and filename, accesses the lyrics.ovh api to get the song lyrics, and writes the results to the specified filename.  Test this function by getting the lyrics to any four songs of your choice and storing them in different files."
   ]
  },
  {
   "cell_type": "code",
   "execution_count": 43,
   "metadata": {},
   "outputs": [
    {
     "name": "stdin",
     "output_type": "stream",
     "text": [
      "Enter an author:  Edgar Allan Poe\n",
      "Enter the name of the poem:  A Dream Within A Dream\n",
      "Enter the name of the new json file:  A_Dream_Within_A_Dream\n"
     ]
    }
   ],
   "source": [
    "import requests\n",
    "import json\n",
    "\n",
    "AUTHOR= input(\"Enter an author: \")\n",
    "POEM = input(\"Enter the name of the poem: \")\n",
    "file= input(\"Enter the name of the new json file: \")\n",
    "\n",
    "#only certain poets and titles are available\n",
    "#to see the available poets, go to (in a web browser)\n",
    "# https://poetrydb.org/author\n",
    "#To see which poems that author has available, go to \n",
    "# https://poetrydb.org/author/AUTHOR NAME\n",
    "# e.g.: https://poetrydb.org/author/Edgar Allan Poe\n",
    "#The spaces will get handled by your web browser\n",
    "\n",
    "# A cool pythonism (introduced in Python 3): f strings\n",
    "# https://docs.python.org/3/tutorial/inputoutput.html#tut-f-strings\n",
    "URL = f'https://poetrydb.org/author,title/{AUTHOR};{POEM}'\n",
    "result = json.loads(requests.get(URL).text)\n",
    "poem = '\\n'.join(result[0]['lines']) \n",
    "json_object = json.dumps(poem)\n",
    "filename = file + \".json\"\n",
    "with open(filename, \"w\") as outfile:\n",
    "    outfile.write(json_object)"
   ]
  },
  {
   "cell_type": "markdown",
   "metadata": {},
   "source": [
    "                    Question 4"
   ]
  },
  {
   "cell_type": "markdown",
   "metadata": {},
   "source": [
    "4. Write a function that takes the name of a file that contains song lyrics, loads the file, performs sentiment analysis, and returns the polarity score.  Use this function to print the polarity scores (with the name of the song) of the three files you created in question 3.  Does the reported polarity match your understanding of the song's lyrics? Why or why not do you think that might be?  Answer the questions in either a comment in the code cell or a markdown cell under the code cell."
   ]
  },
  {
   "cell_type": "code",
   "execution_count": 55,
   "metadata": {},
   "outputs": [
    {
     "name": "stdin",
     "output_type": "stream",
     "text": [
      "Enter filename:  The_Raven\n"
     ]
    },
    {
     "name": "stdout",
     "output_type": "stream",
     "text": [
      "The polarity of The_Raven is 0.03847439660795825\n"
     ]
    }
   ],
   "source": [
    "import spacy\n",
    "from spacytextblob.spacytextblob import SpacyTextBlob\n",
    "import json\n",
    "\n",
    "nlp = spacy.load('en_core_web_sm')\n",
    "nlp.add_pipe('spacytextblob')\n",
    "file = input(\"Enter filename: \")\n",
    "filename = file + \".json\"\n",
    "f = open(filename)\n",
    "text = json.load(f)\n",
    "doc = nlp(text)\n",
    "doc._.blob.polarity                            \n",
    "doc._.blob.subjectivity                        \n",
    "doc._.blob.sentiment_assessments.assessments   \n",
    "doc._.blob.ngrams() \n",
    "print(\"The polarity of \" + file + \" is\" ,doc._.blob.polarity)"
   ]
  },
  {
   "cell_type": "markdown",
   "metadata": {},
   "source": [
    "The polarity for \"The Raven\" surprises me. The poem seems slightly more negative than the polarity shows. It calculates it near neutral."
   ]
  },
  {
   "cell_type": "code",
   "execution_count": 57,
   "metadata": {},
   "outputs": [
    {
     "name": "stdin",
     "output_type": "stream",
     "text": [
      "Enter filename:  Hope\n"
     ]
    },
    {
     "name": "stdout",
     "output_type": "stream",
     "text": [
      "The polarity of Hope is 0.0\n"
     ]
    }
   ],
   "source": [
    "import spacy\n",
    "from spacytextblob.spacytextblob import SpacyTextBlob\n",
    "import json\n",
    "\n",
    "nlp = spacy.load('en_core_web_sm')\n",
    "nlp.add_pipe('spacytextblob')\n",
    "file = input(\"Enter filename: \")\n",
    "filename = file + \".json\"\n",
    "f = open(filename)\n",
    "text = json.load(f)\n",
    "doc = nlp(text)\n",
    "doc._.blob.polarity                            \n",
    "doc._.blob.subjectivity                        \n",
    "doc._.blob.sentiment_assessments.assessments   \n",
    "doc._.blob.ngrams() \n",
    "print(\"The polarity of \" + file + \" is\" ,doc._.blob.polarity)"
   ]
  },
  {
   "cell_type": "markdown",
   "metadata": {},
   "source": [
    "I find that the polarity for this poem to be 0 is accurate. The poem does not have may words that would make it negative or positive."
   ]
  },
  {
   "cell_type": "code",
   "execution_count": 58,
   "metadata": {},
   "outputs": [
    {
     "name": "stdin",
     "output_type": "stream",
     "text": [
      "Enter filename:  Lenore\n"
     ]
    },
    {
     "name": "stdout",
     "output_type": "stream",
     "text": [
      "The polarity of Lenore is 0.023351293103448276\n"
     ]
    }
   ],
   "source": [
    "import spacy\n",
    "from spacytextblob.spacytextblob import SpacyTextBlob\n",
    "import json\n",
    "\n",
    "nlp = spacy.load('en_core_web_sm')\n",
    "nlp.add_pipe('spacytextblob')\n",
    "file = input(\"Enter filename: \")\n",
    "filename = file + \".json\"\n",
    "f = open(filename)\n",
    "text = json.load(f)\n",
    "doc = nlp(text)\n",
    "doc._.blob.polarity                            \n",
    "doc._.blob.subjectivity                        \n",
    "doc._.blob.sentiment_assessments.assessments   \n",
    "doc._.blob.ngrams() \n",
    "print(\"The polarity of \" + file + \" is\" ,doc._.blob.polarity)"
   ]
  },
  {
   "cell_type": "markdown",
   "metadata": {},
   "source": [
    "With the talk of Lenore's death. I would expect this poem to have a negative polarity due to its subject. "
   ]
  }
 ],
 "metadata": {
  "kernelspec": {
   "display_name": "Python 3 (ipykernel)",
   "language": "python",
   "name": "python3"
  },
  "language_info": {
   "codemirror_mode": {
    "name": "ipython",
    "version": 3
   },
   "file_extension": ".py",
   "mimetype": "text/x-python",
   "name": "python",
   "nbconvert_exporter": "python",
   "pygments_lexer": "ipython3",
   "version": "3.9.12"
  }
 },
 "nbformat": 4,
 "nbformat_minor": 4
}
